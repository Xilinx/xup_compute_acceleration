{
 "cells": [
  {
   "cell_type": "markdown",
   "metadata": {},
   "source": [
    "# Vision Library Hardware Emulation with PYNQ\n",
    "\n",
    "This notebook shows how to set up PYNQ to use the Vitis hardware emulator rather than real hardware. \n",
    "The starting point is to build the emulation xclbin file which follows the exact same steps as for \n",
    "building one for real hardware.\n",
    "\n",
    "The only change we need to make is to pass `-t hw_emu` to the `v++` tool."
   ]
  },
  {
   "cell_type": "markdown",
   "metadata": {},
   "source": [
    "## Define Kernel code\n",
    "\n",
    "Write the content of the following cell to the `rgb2hsv.cpp` file. This kernel converts an RGB image to an HSV image"
   ]
  },
  {
   "cell_type": "code",
   "execution_count": null,
   "metadata": {},
   "outputs": [],
   "source": [
    "%%writefile rgb2hsv.cpp\n",
    "\n",
    "#include \"ap_int.h\"\n",
    "#include \"common/xf_common.hpp\"\n",
    "#include \"common/xf_utility.hpp\"\n",
    "#include \"hls_stream.h\"\n",
    "#include \"imgproc/xf_rgb2hsv.hpp\"\n",
    "\n",
    "#define AXI_WIDTH 512\n",
    "#define NPC XF_NPPC8\n",
    "#define TYPE XF_8UC3\n",
    "#define MAX_WIDTH 3840\n",
    "#define MAX_HEIGHT 2160\n",
    "\n",
    "\n",
    "extern \"C\"\n",
    "{\n",
    "    void rgb2hsv_accel(\n",
    "        ap_uint<AXI_WIDTH> *image_in,\n",
    "        ap_uint<AXI_WIDTH> *image_out,\n",
    "        int width,\n",
    "        int height)\n",
    "    {\n",
    "#pragma HLS INTERFACE m_axi port = image_in offset = slave bundle = image_in_gmem\n",
    "#pragma HLS INTERFACE m_axi port = image_out offset = slave bundle = image_out_gmem\n",
    "#pragma HLS INTERFACE s_axilite port = image_in bundle = control\n",
    "#pragma HLS INTERFACE s_axilite port = image_out bundle = control\n",
    "#pragma HLS INTERFACE s_axilite port = width bundle = control\n",
    "#pragma HLS INTERFACE s_axilite port = height bundle = control\n",
    "#pragma HLS INTERFACE s_axilite port = return bundle = control\n",
    "\n",
    "        xf::cv::Mat<TYPE, MAX_HEIGHT, MAX_WIDTH, NPC> in_mat(height, width);\n",
    "\n",
    "        xf::cv::Mat<TYPE, MAX_HEIGHT, MAX_WIDTH, NPC> out_mat(height, width);\n",
    "\n",
    "#pragma HLS DATAFLOW\n",
    "\n",
    "        xf::cv::Array2xfMat<AXI_WIDTH, TYPE, MAX_HEIGHT, MAX_WIDTH, NPC>(image_in, in_mat);\n",
    "        xf::cv::rgb2hsv<TYPE, MAX_HEIGHT, MAX_WIDTH, NPC>(in_mat, out_mat);\n",
    "        xf::cv::xfMat2Array<AXI_WIDTH, TYPE, MAX_HEIGHT, MAX_WIDTH, NPC>(out_mat, image_out);\n",
    "    }\n",
    "}"
   ]
  },
  {
   "cell_type": "markdown",
   "metadata": {},
   "source": [
    "## Compile the accelerator in Hardware Emulation\n",
    "\n",
    "First we define the target platform and the path to the Vitis Accelerated libraries "
   ]
  },
  {
   "cell_type": "code",
   "execution_count": null,
   "metadata": {},
   "outputs": [],
   "source": [
    "import os\n",
    "home = os.path.expanduser('~') + \"/\"\n",
    "platform = home + \"aws-fpga/Vitis/aws_platform/xilinx_aws-vu9p-f1_shell-v04261818_201920_2/xilinx_aws-vu9p-f1_shell-v04261818_201920_2.xpfm\"\n",
    "VITIS_LIBS = home + \"Vitis_Libraries/vision/L1/include\""
   ]
  },
  {
   "cell_type": "markdown",
   "metadata": {},
   "source": [
    "Compile the kernel code using `v++`, note that the `-t` switch specifies the compile target and `-k` specifies the kernel to compile. The output is the `rgb2hsv.xo` (Xilinx object) file which contains the compiled kernel."
   ]
  },
  {
   "cell_type": "code",
   "execution_count": null,
   "metadata": {},
   "outputs": [],
   "source": [
    "!v++ -f $platform -t hw_emu -I$VITIS_LIBS -k rgb2hsv_accel -o rgb2hsv.xo rgb2hsv.cpp"
   ]
  },
  {
   "cell_type": "markdown",
   "metadata": {},
   "source": [
    "To link the kernel with the rest of the infrastructure in the shell, we use `v++` again but this time with the `-l` switch to generate an `xclbin` file"
   ]
  },
  {
   "cell_type": "code",
   "execution_count": null,
   "metadata": {},
   "outputs": [],
   "source": [
    "!v++ -f $platform -t hw_emu -l -o vision.xclbin rgb2hsv.xo"
   ]
  },
  {
   "cell_type": "markdown",
   "metadata": {},
   "source": [
    "## Setting up the emulator\n",
    "\n",
    "With the xclbin file we can start setting up the emulator. First we use the `emconfigutil` utility to define the system we want to emulate. In this case we want a single instance containing the platform we used."
   ]
  },
  {
   "cell_type": "code",
   "execution_count": null,
   "metadata": {},
   "outputs": [],
   "source": [
    "!emconfigutil -f $platform --nd 1"
   ]
  },
  {
   "cell_type": "markdown",
   "metadata": {},
   "source": [
    "The `emconfig.json` file describes the platform and is used by the emulator runtime. The default search path for this file is alongside the executable which would be `/usr/bin/python3` for a Python script. We can override this location by setting the `EMCONFIG_PATH` environment variable."
   ]
  },
  {
   "cell_type": "code",
   "execution_count": null,
   "metadata": {},
   "outputs": [],
   "source": [
    "os.environ['EMCONFIG_PATH'] =  os.environ['PWD']"
   ]
  },
  {
   "cell_type": "markdown",
   "metadata": {},
   "source": [
    "We also need to set the `XCL_EMULATION_MODE` environment variable to tell PYNQ and the underlying runtime to run against the emulator rather than real hardware. Note that this must be done before importing PYNQ."
   ]
  },
  {
   "cell_type": "code",
   "execution_count": null,
   "metadata": {},
   "outputs": [],
   "source": [
    "os.environ['XCL_EMULATION_MODE'] = 'hw_emu'"
   ]
  },
  {
   "cell_type": "markdown",
   "metadata": {},
   "source": [
    "## Running the accelerator in Emulation mode with PYNQ"
   ]
  },
  {
   "cell_type": "code",
   "execution_count": null,
   "metadata": {},
   "outputs": [],
   "source": [
    "import pynq\n",
    "ol = pynq.Overlay(\"vision.xclbin\")"
   ]
  },
  {
   "cell_type": "markdown",
   "metadata": {},
   "source": [
    "We can now use PYNQ in exactly the same way as if we were running against real hardware.\n",
    "\n",
    "Load a test image and compute its size in bytes. It is recommended to use small images to speed up the hardware emulation."
   ]
  },
  {
   "cell_type": "code",
   "execution_count": null,
   "metadata": {},
   "outputs": [],
   "source": [
    "from PIL import Image\n",
    "image = Image.open(home + \"xup_compute_acceleration/sources/vision_lab/src/data/fish_wallpaper_small.jpg\")\n",
    "img_width, img_height = image.size\n",
    "size = img_width * img_height * 3"
   ]
  },
  {
   "cell_type": "markdown",
   "metadata": {},
   "source": [
    "Display original image"
   ]
  },
  {
   "cell_type": "code",
   "execution_count": null,
   "metadata": {},
   "outputs": [],
   "source": [
    "image"
   ]
  },
  {
   "cell_type": "markdown",
   "metadata": {},
   "source": [
    "Grab a handler to the accelerator and display its signature"
   ]
  },
  {
   "cell_type": "code",
   "execution_count": null,
   "metadata": {},
   "outputs": [],
   "source": [
    "rgb2hsv = ol.rgb2hsv_accel_1\n",
    "rgb2hsv.signature"
   ]
  },
  {
   "cell_type": "markdown",
   "metadata": {},
   "source": [
    "Allocate buffers for the input and output images using the `pynq.allocate` API"
   ]
  },
  {
   "cell_type": "code",
   "execution_count": null,
   "metadata": {},
   "outputs": [],
   "source": [
    "import numpy as np\n",
    "in_buf = pynq.allocate(size, dtype=np.uint8)\n",
    "out_buf = pynq.allocate(size, dtype=np.uint8)"
   ]
  },
  {
   "cell_type": "markdown",
   "metadata": {},
   "source": [
    "Move image to the accelerator buffer"
   ]
  },
  {
   "cell_type": "code",
   "execution_count": null,
   "metadata": {},
   "outputs": [],
   "source": [
    "in_buf[:] = np.reshape(np.array(image), size)\n",
    "in_buf.sync_to_device()"
   ]
  },
  {
   "cell_type": "markdown",
   "metadata": {},
   "source": [
    "Execute the hardware emulation"
   ]
  },
  {
   "cell_type": "code",
   "execution_count": null,
   "metadata": {},
   "outputs": [],
   "source": [
    "krnl = rgb2hsv.start(in_buf, out_buf, img_width, img_height)"
   ]
  },
  {
   "cell_type": "markdown",
   "metadata": {},
   "source": [
    "Wait for the emulation to finish and then copy the results"
   ]
  },
  {
   "cell_type": "code",
   "execution_count": null,
   "metadata": {},
   "outputs": [],
   "source": [
    "krnl.wait()\n",
    "out_buf.sync_from_device()"
   ]
  },
  {
   "cell_type": "markdown",
   "metadata": {},
   "source": [
    "Display result image"
   ]
  },
  {
   "cell_type": "code",
   "execution_count": null,
   "metadata": {},
   "outputs": [],
   "source": [
    "result_image = np.reshape(out_buf, np.shape(image))\n",
    "Image.fromarray(result_image, \"RGB\")"
   ]
  },
  {
   "cell_type": "markdown",
   "metadata": {},
   "source": [
    "Release the accelerator"
   ]
  },
  {
   "cell_type": "code",
   "execution_count": null,
   "metadata": {},
   "outputs": [],
   "source": [
    "ol.free()\n",
    "pynq.Device.active_device.close()"
   ]
  },
  {
   "cell_type": "markdown",
   "metadata": {},
   "source": [
    "----\n",
    "Copyright © 2021 Xilinx, Inc\n",
    "\n",
    "SPDX-License-Identifier: BSD-3-Clause"
   ]
  }
 ],
 "metadata": {
  "kernelspec": {
   "display_name": "Python 3",
   "language": "python",
   "name": "python3"
  },
  "language_info": {
   "codemirror_mode": {
    "name": "ipython",
    "version": 3
   },
   "file_extension": ".py",
   "mimetype": "text/x-python",
   "name": "python",
   "nbconvert_exporter": "python",
   "pygments_lexer": "ipython3",
   "version": "3.7.3"
  }
 },
 "nbformat": 4,
 "nbformat_minor": 4
}
