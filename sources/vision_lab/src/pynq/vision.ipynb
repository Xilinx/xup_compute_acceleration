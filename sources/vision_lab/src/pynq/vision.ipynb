{
 "cells": [
  {
   "cell_type": "markdown",
   "metadata": {},
   "source": [
    "# Vision Lab with PYNQ\n",
    "\n",
    "This notebook shows you how to run the vision example with PYNQ\n",
    "\n",
    "Let us start by loading a testing image"
   ]
  },
  {
   "cell_type": "code",
   "execution_count": null,
   "metadata": {},
   "outputs": [],
   "source": [
    "import os\n",
    "home = os.path.expanduser('~') + \"/\"\n",
    "\n",
    "from PIL import Image\n",
    "image = Image.open(home + \"xup_compute_acceleration/sources/vision_lab/src/data/fish_wallpaper.jpg\")\n",
    "img_width, img_height = image.size\n",
    "image.size"
   ]
  },
  {
   "cell_type": "markdown",
   "metadata": {},
   "source": [
    "## Donwload the accelerator"
   ]
  },
  {
   "cell_type": "code",
   "execution_count": null,
   "metadata": {},
   "outputs": [],
   "source": [
    "import pynq\n",
    "ol = pynq.Overlay(home + \"xup_compute_acceleration/solutions/vision_lab/vision_example.awsxclbin\")"
   ]
  },
  {
   "cell_type": "markdown",
   "metadata": {},
   "source": [
    "Show the available accelerators on the xclbin file"
   ]
  },
  {
   "cell_type": "code",
   "execution_count": null,
   "metadata": {},
   "outputs": [],
   "source": [
    "ol.ip_dict"
   ]
  },
  {
   "cell_type": "markdown",
   "metadata": {},
   "source": [
    "## Resize kernel"
   ]
  },
  {
   "cell_type": "markdown",
   "metadata": {},
   "source": [
    "Grab a handler to the resize accelerator and display its signature"
   ]
  },
  {
   "cell_type": "code",
   "execution_count": null,
   "metadata": {},
   "outputs": [],
   "source": [
    "resize = ol.resize_accel_rgb_1\n",
    "resize.signature"
   ]
  },
  {
   "cell_type": "markdown",
   "metadata": {},
   "source": [
    "Define the resize value and compute the size of the resulting image"
   ]
  },
  {
   "cell_type": "code",
   "execution_count": null,
   "metadata": {},
   "outputs": [],
   "source": [
    "scale = 5\n",
    "img_out_height, img_out_width = img_height//scale,  img_width//scale"
   ]
  },
  {
   "cell_type": "markdown",
   "metadata": {},
   "source": [
    "Compute the size of the input and output images, in bytes, and allocate buffers for them"
   ]
  },
  {
   "cell_type": "code",
   "execution_count": null,
   "metadata": {},
   "outputs": [],
   "source": [
    "import numpy as np\n",
    "size_in = img_height * img_width * 3\n",
    "size_out = img_out_height * img_out_width * 3\n",
    "\n",
    "in_buf = pynq.allocate(size_in, dtype=np.uint8)\n",
    "out_buf = pynq.allocate(size_out, dtype=np.uint8)"
   ]
  },
  {
   "cell_type": "markdown",
   "metadata": {},
   "source": [
    "Copy the input image into the accelerator global memory"
   ]
  },
  {
   "cell_type": "code",
   "execution_count": null,
   "metadata": {},
   "outputs": [],
   "source": [
    "in_buf[:] = np.reshape(np.array(image), size_in)\n",
    "in_buf.sync_to_device()"
   ]
  },
  {
   "cell_type": "markdown",
   "metadata": {},
   "source": [
    "Run the kernel and wait for its completion"
   ]
  },
  {
   "cell_type": "code",
   "execution_count": null,
   "metadata": {},
   "outputs": [],
   "source": [
    "krnl = resize.start(in_buf, out_buf, img_width, img_height, img_out_width, img_out_height)\n",
    "krnl.wait()\n",
    "out_buf.sync_from_device()"
   ]
  },
  {
   "cell_type": "markdown",
   "metadata": {},
   "source": [
    "Display output image"
   ]
  },
  {
   "cell_type": "code",
   "execution_count": null,
   "metadata": {},
   "outputs": [],
   "source": [
    "result_image = np.reshape(out_buf,(img_out_height, img_out_width, 3))\n",
    "\n",
    "resize_img = Image.fromarray(result_image, \"RGB\")\n",
    "\n",
    "print(f\"Output image size {resize_img.size}\")\n",
    "resize_img"
   ]
  },
  {
   "cell_type": "markdown",
   "metadata": {},
   "source": [
    "## Resize and blur kernel\n",
    "\n",
    "Grab a handler to the resize and blur kernel"
   ]
  },
  {
   "cell_type": "code",
   "execution_count": null,
   "metadata": {},
   "outputs": [],
   "source": [
    "resize_blur = ol.resize_blur_rgb_1\n",
    "resize_blur.signature"
   ]
  },
  {
   "cell_type": "markdown",
   "metadata": {},
   "source": [
    "Define the resize value and compute the size of the resulting image"
   ]
  },
  {
   "cell_type": "code",
   "execution_count": null,
   "metadata": {},
   "outputs": [],
   "source": [
    "scale = 3\n",
    "img_out_height, img_out_width = img_height//scale,  img_width//scale\n",
    "\n",
    "size_out = img_out_height * img_out_width * 3"
   ]
  },
  {
   "cell_type": "markdown",
   "metadata": {},
   "source": [
    "Allocate output image buffer, we can reuse the input image buffer as both kernel access to the same memory bank. You can use the `.args` attribute of the kernel objects to verify this. For instance, `resize_blur.args` "
   ]
  },
  {
   "cell_type": "code",
   "execution_count": null,
   "metadata": {},
   "outputs": [],
   "source": [
    "out_buf = pynq.allocate(size_out, dtype=np.uint8)"
   ]
  },
  {
   "cell_type": "markdown",
   "metadata": {},
   "source": [
    "Run the kernel and wait for its completion"
   ]
  },
  {
   "cell_type": "code",
   "execution_count": null,
   "metadata": {},
   "outputs": [],
   "source": [
    "krnl = resize_blur.start(in_buf, out_buf, img_width, img_height, img_out_width, img_out_height, 20.3)\n",
    "krnl.wait()\n",
    "out_buf.sync_from_device()"
   ]
  },
  {
   "cell_type": "markdown",
   "metadata": {},
   "source": [
    "Display output image"
   ]
  },
  {
   "cell_type": "code",
   "execution_count": null,
   "metadata": {},
   "outputs": [],
   "source": [
    "result_image = np.reshape(out_buf,(img_out_height, img_out_width, 3))\n",
    "\n",
    "resize_blur_img = Image.fromarray(result_image, \"RGB\")\n",
    "print(f\"Output image size {resize_blur_img.size}\")\n",
    "resize_blur_img"
   ]
  },
  {
   "cell_type": "markdown",
   "metadata": {},
   "source": [
    "## Release accelerator and memory"
   ]
  },
  {
   "cell_type": "code",
   "execution_count": null,
   "metadata": {},
   "outputs": [],
   "source": [
    "del in_buf\n",
    "del out_buf\n",
    "ol.free()"
   ]
  },
  {
   "cell_type": "markdown",
   "metadata": {},
   "source": [
    "----\n",
    "Copyright © 2021 Xilinx, Inc\n",
    "\n",
    "SPDX-License-Identifier: BSD-3-Clause"
   ]
  }
 ],
 "metadata": {
  "kernelspec": {
   "display_name": "Python 3",
   "language": "python",
   "name": "python3"
  },
  "language_info": {
   "codemirror_mode": {
    "name": "ipython",
    "version": 3
   },
   "file_extension": ".py",
   "mimetype": "text/x-python",
   "name": "python",
   "nbconvert_exporter": "python",
   "pygments_lexer": "ipython3",
   "version": "3.7.3"
  }
 },
 "nbformat": 4,
 "nbformat_minor": 4
}
